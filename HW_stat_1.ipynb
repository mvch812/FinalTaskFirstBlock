{
  "nbformat": 4,
  "nbformat_minor": 0,
  "metadata": {
    "colab": {
      "provenance": [],
      "collapsed_sections": [],
      "include_colab_link": true
    },
    "kernelspec": {
      "name": "python3",
      "display_name": "Python 3"
    },
    "language_info": {
      "name": "python"
    }
  },
  "cells": [
    {
      "cell_type": "markdown",
      "metadata": {
        "id": "view-in-github",
        "colab_type": "text"
      },
      "source": [
        "<a href=\"https://colab.research.google.com/github/mvch812/FinalTaskFirstBlock/blob/main/HW_stat_1.ipynb\" target=\"_parent\"><img src=\"https://colab.research.google.com/assets/colab-badge.svg\" alt=\"Open In Colab\"/></a>"
      ]
    },
    {
      "cell_type": "markdown",
      "source": [
        "#1. Из колоды в 52 карты извлекаются случайным образом 4 карты. \n",
        "##a) Найти вероятность того, что все карты – крести."
      ],
      "metadata": {
        "id": "PoUPZifBHwKq"
      }
    },
    {
      "cell_type": "markdown",
      "source": [
        "Благоприятсвующие события - 4 карты крести из 13-ти возможных (52/4):"
      ],
      "metadata": {
        "id": "AfE0S01-nLkd"
      }
    },
    {
      "cell_type": "code",
      "source": [
        "import numpy as np\n",
        "from math import factorial\n",
        "def combinations (n, k):\n",
        "  return np.math.factorial(n)/(np.math.factorial(k)*np.math.factorial(n-k))\n",
        "m=combinations (13, 4)\n",
        "m"
      ],
      "metadata": {
        "colab": {
          "base_uri": "https://localhost:8080/"
        },
        "id": "2CaDaPrTVltb",
        "outputId": "ed4b44d2-e852-4272-f5cc-6f99ca4fcc99"
      },
      "execution_count": null,
      "outputs": [
        {
          "output_type": "execute_result",
          "data": {
            "text/plain": [
              "715.0"
            ]
          },
          "metadata": {},
          "execution_count": 42
        }
      ]
    },
    {
      "cell_type": "markdown",
      "source": [
        "Все возможные события: любые 4 карты из колоды 52 карт:"
      ],
      "metadata": {
        "id": "1VIjgHqonK5c"
      }
    },
    {
      "cell_type": "code",
      "source": [
        "n=combinations (52, 4)\n",
        "n"
      ],
      "metadata": {
        "id": "dytGUw_pXOIu",
        "colab": {
          "base_uri": "https://localhost:8080/"
        },
        "outputId": "b77c6c89-1949-4014-e004-af1571becfb7"
      },
      "execution_count": null,
      "outputs": [
        {
          "output_type": "execute_result",
          "data": {
            "text/plain": [
              "270725.0"
            ]
          },
          "metadata": {},
          "execution_count": 43
        }
      ]
    },
    {
      "cell_type": "markdown",
      "source": [
        "Ответ: вероятность того, что все карты крести:\n",
        "Р(А) = 715/270725*100%="
      ],
      "metadata": {
        "id": "VI0uH0JLIOMk"
      }
    },
    {
      "cell_type": "code",
      "source": [
        "P=m/n*100\n",
        "P"
      ],
      "metadata": {
        "colab": {
          "base_uri": "https://localhost:8080/"
        },
        "id": "6cjQwd9yo-rm",
        "outputId": "a85e0306-2a23-4ebc-cffe-4a7f92eb10aa"
      },
      "execution_count": null,
      "outputs": [
        {
          "output_type": "execute_result",
          "data": {
            "text/plain": [
              "0.26410564225690275"
            ]
          },
          "metadata": {},
          "execution_count": 44
        }
      ]
    },
    {
      "cell_type": "markdown",
      "source": [
        "##б) Найти вероятность, что среди 4-х карт окажется хотя бы один туз."
      ],
      "metadata": {
        "id": "fGpOnuZ8H-is"
      }
    },
    {
      "cell_type": "markdown",
      "source": [
        "Благоприятствующие события:\n",
        "1. Вытянули 1 туза и 3 не туза\n",
        "2. Вытянули 2 туза и 2 не туза\n",
        "3. Вытянули 3 туза и 1 не туза\n",
        "4. Вытянули всех тузов.\n"
      ],
      "metadata": {
        "id": "n5Puzya-2xS5"
      }
    },
    {
      "cell_type": "markdown",
      "source": [
        "найдем все комбинации для тузов:"
      ],
      "metadata": {
        "id": "fOWmUA39wqyA"
      }
    },
    {
      "cell_type": "code",
      "source": [
        "C1=combinations(4, 1)\n",
        "C2=combinations(4, 2)\n",
        "C3=combinations(4, 3)\n",
        "C4=combinations(4, 4)"
      ],
      "metadata": {
        "id": "CXYMCzqQwvaZ"
      },
      "execution_count": null,
      "outputs": []
    },
    {
      "cell_type": "markdown",
      "source": [
        "все комбинации для оставшихся карт:"
      ],
      "metadata": {
        "id": "lGgODxnA0ft7"
      }
    },
    {
      "cell_type": "code",
      "source": [
        "K1=combinations(48,3)\n",
        "K2=combinations(48,2)\n",
        "K3=combinations(48,1)"
      ],
      "metadata": {
        "id": "XLDTdW_20h2f"
      },
      "execution_count": null,
      "outputs": []
    },
    {
      "cell_type": "markdown",
      "source": [
        "Все возможные исходы вытянуть 4 карты из 52:"
      ],
      "metadata": {
        "id": "31fqbRUG481p"
      }
    },
    {
      "cell_type": "code",
      "source": [
        "n = combinations(52, 4)\n",
        "n"
      ],
      "metadata": {
        "colab": {
          "base_uri": "https://localhost:8080/"
        },
        "id": "SHHaPMTp1HMD",
        "outputId": "f68a324c-866f-4561-e13e-da42db5abdf0"
      },
      "execution_count": null,
      "outputs": [
        {
          "output_type": "execute_result",
          "data": {
            "text/plain": [
              "270725.0"
            ]
          },
          "metadata": {},
          "execution_count": 47
        }
      ]
    },
    {
      "cell_type": "markdown",
      "source": [
        "Поскольку может случиться только один из вариантов, берем сумму вероятностей. Ответ (%):"
      ],
      "metadata": {
        "id": "bAn5mcbh6bgo"
      }
    },
    {
      "cell_type": "code",
      "source": [
        "P_2=round((C1*K1+C2*K2+C3*K3+C4)*100/n,2)\n",
        "P_2"
      ],
      "metadata": {
        "colab": {
          "base_uri": "https://localhost:8080/"
        },
        "id": "dIkADANu0gWZ",
        "outputId": "6b493415-98f5-4ecd-f34f-281698297211"
      },
      "execution_count": null,
      "outputs": [
        {
          "output_type": "execute_result",
          "data": {
            "text/plain": [
              "28.13"
            ]
          },
          "metadata": {},
          "execution_count": 48
        }
      ]
    },
    {
      "cell_type": "markdown",
      "source": [
        "# **2. На входной двери подъезда установлен кодовый замок, содержащий десять кнопок с цифрами от 0 до 9. Код содержит три цифры, которые нужно нажать одновременно. Какова вероятность того, что человек, не знающий код, откроет дверь с первой попытки?**"
      ],
      "metadata": {
        "id": "EeA-84hKKxo2"
      }
    },
    {
      "cell_type": "markdown",
      "source": [
        "Благоприятное событие = 1 (одна попытка).\n",
        "Общее количество исходов - количество способов выбрать 3 кнопки из 10=\n"
      ],
      "metadata": {
        "id": "BqR3XNahvujK"
      }
    },
    {
      "cell_type": "code",
      "source": [
        "n=combinations (10, 3)\n",
        "n"
      ],
      "metadata": {
        "colab": {
          "base_uri": "https://localhost:8080/"
        },
        "id": "0CSINRMnwJ3B",
        "outputId": "c783d3f0-7ccf-4466-acc4-6a6a8b53eb3c"
      },
      "execution_count": null,
      "outputs": [
        {
          "output_type": "execute_result",
          "data": {
            "text/plain": [
              "120.0"
            ]
          },
          "metadata": {},
          "execution_count": 49
        }
      ]
    },
    {
      "cell_type": "markdown",
      "source": [
        "Ответ: вероятность того, что человек, не знающий код, откроет дверь с первой попытки =1/120*100%=\n"
      ],
      "metadata": {
        "id": "aJy7DXXCK83V"
      }
    },
    {
      "cell_type": "code",
      "source": [
        "P_3=1/n*100\n",
        "P_3"
      ],
      "metadata": {
        "colab": {
          "base_uri": "https://localhost:8080/"
        },
        "id": "ZhRHNN97wfzp",
        "outputId": "69180023-0916-4083-ff78-97737c1773a9"
      },
      "execution_count": null,
      "outputs": [
        {
          "output_type": "execute_result",
          "data": {
            "text/plain": [
              "0.8333333333333334"
            ]
          },
          "metadata": {},
          "execution_count": 50
        }
      ]
    },
    {
      "cell_type": "markdown",
      "source": [
        "# **3. В ящике имеется 15 деталей, из которых 9 окрашены. Рабочий случайным образом извлекает 3 детали. Какова вероятность того, что все извлеченные детали окрашены?**"
      ],
      "metadata": {
        "id": "YQfRB1lTLjRb"
      }
    },
    {
      "cell_type": "markdown",
      "source": [
        "Благоприятсвующие события - достать 3 окрашенные из 9 окрашенных:"
      ],
      "metadata": {
        "id": "DM9p_DNUzDNl"
      }
    },
    {
      "cell_type": "code",
      "source": [
        "m=combinations (9, 3)\n",
        "m"
      ],
      "metadata": {
        "colab": {
          "base_uri": "https://localhost:8080/"
        },
        "id": "3pRl2T31zOV2",
        "outputId": "15fc5919-84f4-4015-dde6-849fea13f661"
      },
      "execution_count": null,
      "outputs": [
        {
          "output_type": "execute_result",
          "data": {
            "text/plain": [
              "84.0"
            ]
          },
          "metadata": {},
          "execution_count": 51
        }
      ]
    },
    {
      "cell_type": "markdown",
      "source": [
        "Все возможные исходы:"
      ],
      "metadata": {
        "id": "OpHBRNUeyQ-m"
      }
    },
    {
      "cell_type": "code",
      "source": [
        "n=combinations (15, 3)\n",
        "n"
      ],
      "metadata": {
        "colab": {
          "base_uri": "https://localhost:8080/"
        },
        "id": "6-4Ti5GMydct",
        "outputId": "417804da-1637-4a6b-bd8f-6c4b47925457"
      },
      "execution_count": null,
      "outputs": [
        {
          "output_type": "execute_result",
          "data": {
            "text/plain": [
              "455.0"
            ]
          },
          "metadata": {},
          "execution_count": 52
        }
      ]
    },
    {
      "cell_type": "markdown",
      "source": [
        "Ответ: вероятность того, что человек, извлечет 3 окрашенные детали=84/455*100%="
      ],
      "metadata": {
        "id": "E8t4mM-2Lmd_"
      }
    },
    {
      "cell_type": "code",
      "source": [
        "P_4=m/n*100\n",
        "P_4"
      ],
      "metadata": {
        "colab": {
          "base_uri": "https://localhost:8080/"
        },
        "id": "DLU7IZouz4RT",
        "outputId": "d99ec114-d6e0-43c2-d1c0-e081e9933eef"
      },
      "execution_count": null,
      "outputs": [
        {
          "output_type": "execute_result",
          "data": {
            "text/plain": [
              "18.461538461538463"
            ]
          },
          "metadata": {},
          "execution_count": 53
        }
      ]
    },
    {
      "cell_type": "markdown",
      "source": [
        "# **4. В лотерее 100 билетов. Из них 2 выигрышных. Какова вероятность того, что 2 приобретенных билета окажутся выигрышными?**"
      ],
      "metadata": {
        "id": "aquE9y2fNDy0"
      }
    },
    {
      "cell_type": "markdown",
      "source": [
        "Количество благоприятных исходов 2 билета из 2-х выигрышных:"
      ],
      "metadata": {
        "id": "gQrDgbK-1WBr"
      }
    },
    {
      "cell_type": "code",
      "source": [
        "m=combinations (2, 2)\n",
        "m"
      ],
      "metadata": {
        "colab": {
          "base_uri": "https://localhost:8080/"
        },
        "id": "kXcxwEwB1iS7",
        "outputId": "ad3be5e2-f113-481b-ab66-6dc35599c7e0"
      },
      "execution_count": null,
      "outputs": [
        {
          "output_type": "execute_result",
          "data": {
            "text/plain": [
              "1.0"
            ]
          },
          "metadata": {},
          "execution_count": 54
        }
      ]
    },
    {
      "cell_type": "markdown",
      "source": [
        "Все возможные исходы достать 2 билета из 100:"
      ],
      "metadata": {
        "id": "otCA0asS1oow"
      }
    },
    {
      "cell_type": "code",
      "source": [
        "n=combinations (100, 2)\n",
        "n"
      ],
      "metadata": {
        "colab": {
          "base_uri": "https://localhost:8080/"
        },
        "id": "VKPd_aeA2vDw",
        "outputId": "32135ddf-b79e-4f4e-9fb5-41ba46fbe9f1"
      },
      "execution_count": null,
      "outputs": [
        {
          "output_type": "execute_result",
          "data": {
            "text/plain": [
              "4950.0"
            ]
          },
          "metadata": {},
          "execution_count": 55
        }
      ]
    },
    {
      "cell_type": "markdown",
      "source": [
        "Ответ: вероятность того, что 2 приобретенных билета окажутся выигрышными = 1/4950*100%=\n"
      ],
      "metadata": {
        "id": "_PcjJwCcNDrb"
      }
    },
    {
      "cell_type": "code",
      "source": [
        "P_5=1/n*100\n",
        "P_5"
      ],
      "metadata": {
        "colab": {
          "base_uri": "https://localhost:8080/"
        },
        "id": "s8IFi_Ap2-v3",
        "outputId": "0c8a6f5e-ecf7-4c3a-f18c-acf715be6058"
      },
      "execution_count": null,
      "outputs": [
        {
          "output_type": "execute_result",
          "data": {
            "text/plain": [
              "0.0202020202020202"
            ]
          },
          "metadata": {},
          "execution_count": 56
        }
      ]
    }
  ]
}